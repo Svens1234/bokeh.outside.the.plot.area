{
 "cells": [
  {
   "cell_type": "code",
   "execution_count": 1,
   "id": "6b2930d1",
   "metadata": {},
   "outputs": [],
   "source": [
    "import numpy as np\n",
    "\n",
    "from bokeh.models import Legend\n",
    "from bokeh.plotting import figure, output_file, show"
   ]
  },
  {
   "cell_type": "code",
   "execution_count": 2,
   "id": "959e22f9",
   "metadata": {},
   "outputs": [],
   "source": [
    "x = np.linspace(0, 4*np.pi, 100)\n",
    "y = np.sin(x)\n",
    "\n",
    "output_file(\"legend_labels.html\")\n",
    "\n",
    "p = figure(toolbar_location=\"above\")\n",
    "\n",
    "r0 = p.circle(x, y)\n",
    "r1 = p.line(x, y)\n",
    "\n",
    "r2 = p.line(x, 2*y, line_dash=[4, 4], line_color=\"orange\", line_width=2)\n",
    "\n",
    "r3 = p.square(x, 3*y, fill_color=None, line_color=\"green\")\n",
    "r4 = p.line(x, 3*y, line_color=\"green\")\n",
    "\n",
    "legend = Legend(items=[\n",
    "    (\"sin(x)\"   , [r0, r1]),\n",
    "    (\"2*sin(x)\" , [r2]),\n",
    "    (\"3*sin(x)\" , [r3, r4]),\n",
    "], location=\"center\")\n",
    "\n",
    "p.add_layout(legend, 'right')\n",
    "\n",
    "show(p)"
   ]
  },
  {
   "cell_type": "code",
   "execution_count": null,
   "id": "ced5efd9",
   "metadata": {},
   "outputs": [],
   "source": []
  }
 ],
 "metadata": {
  "kernelspec": {
   "display_name": "Python 3 (ipykernel)",
   "language": "python",
   "name": "python3"
  },
  "language_info": {
   "codemirror_mode": {
    "name": "ipython",
    "version": 3
   },
   "file_extension": ".py",
   "mimetype": "text/x-python",
   "name": "python",
   "nbconvert_exporter": "python",
   "pygments_lexer": "ipython3",
   "version": "3.10.5"
  }
 },
 "nbformat": 4,
 "nbformat_minor": 5
}
